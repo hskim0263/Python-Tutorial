{
 "cells": [
  {
   "cell_type": "markdown",
   "metadata": {},
   "source": [
    "# Numpy Basic Tutorial : 배열과 벡터 계산\n",
    "Numerical Python의 줄임말, 고성능의 과학계산 컴퓨팅과 데이터 분석에 필요한 기본 패키지이며 Numpy가 제공하는 기능은 아래와 같다.\n",
    "* 빠르고 메모리를 효율적으로 사용하며 벡터 산술연산과 세련된 브로드 캐스팅 기능을 제공하는 다차원 배열인 ndarray\n",
    "* 반복문을 작성할 필요 없이 전체 데이터 배열에 대해 빠른 연산을 제공하는 표준 수학 함수\n",
    "* 배열 데이터를 디스크에 쓰거나 읽을 수 있는 도구와 메모리에 올려진 파일을 사용하는 도구\n",
    "* 선형대수, 난수 발생기, 푸리에 변환가능\n",
    "* C, C++, 포트란으로 쓰여진 코드를 통합하는 코드  \n",
    "\n",
    "튜토리얼은 아래의 목차로 구성되어있다.<br>\n",
    "(본 튜토리얼은 \"파이썬 라이브러리를 활용한 데이터 분석 - 한빛 미디어\"의 서적을 토대로 만들어졌다.)\n",
    "\n",
    "---\n",
    "- **1. ndarray : 다차원 배열 객체 (= 배열, array)**\n",
    "    - 1.1 ndarray 생성\n",
    "    - 1.2 ndarray의 자료형\n",
    "    - 1.3 배열과 스칼라의 연산\n",
    "    - 1.4 색인과 슬라이싱 기초\n",
    "        - 1.4.1 1차원 배열\n",
    "        - 1.4.2 다차원 배열\n",
    "        - 1.4.3 슬라이스 색인\n",
    "    - 1.5 불리언 색인\n",
    "    - 1.6 팬시 색인\n",
    "    - 1.7 배열 전치와 축 바꾸기  \n",
    "- **2. 유니버설 함수**\n",
    "- **3. 배열을 사용한 데이터 처리**\n",
    "    - 3.1 배열연산을 조건절 표현하기\n",
    "    - 3.2 수학메서드와 통계 메서드\n",
    "    - 3.3 불리언배열을 위한 메서드\n",
    "    - 3.4 정렬\n",
    "    - 3.5 집합함수\n",
    "- **4. 선형대수**\n",
    "- **5. 난수생성**\n",
    "---"
   ]
  },
  {
   "cell_type": "markdown",
   "metadata": {},
   "source": [
    "##  1. ndarray : 다차원 배열 객체 (= 배열, array)\n",
    "Numpy 배열은 동일한 자료형을 가지는 값들이 격자판 형태로 있는 형태, 각각의 값들은 튜플(이때 튜플은 양의 정수만을 요소값으로 갖는다) 형태로 색인된다. rank는 배열이 몇차원인지를 의미하며, shape는 각 차원의 크기를 알려주는 정수들이 모인 튜플이다.<br>\n",
    "* 배열의 모든 원소는 같은 자료형이어야한다.\n",
    "* 모든 배열은 각 차원의 크기를 알려주는 shape라는 튜플과 배열에 저장된 자료형을 알려주는 dtype라는 객체를 가지고 있다.\n"
   ]
  },
  {
   "cell_type": "code",
   "execution_count": 5,
   "metadata": {
    "collapsed": false
   },
   "outputs": [
    {
     "data": {
      "text/plain": [
       "array([[-0.31181349,  0.75769719, -1.38719257],\n",
       "       [-0.33643825, -0.72768672,  0.55763802]])"
      ]
     },
     "execution_count": 5,
     "metadata": {},
     "output_type": "execute_result"
    }
   ],
   "source": [
    "import numpy as np\n",
    "data = np.random.randn(2,3)\n",
    "data"
   ]
  },
  {
   "cell_type": "code",
   "execution_count": 6,
   "metadata": {
    "collapsed": false
   },
   "outputs": [
    {
     "data": {
      "text/plain": [
       "array([[ -3.11813492,   7.57697186, -13.87192574],\n",
       "       [ -3.36438245,  -7.27686721,   5.57638025]])"
      ]
     },
     "execution_count": 6,
     "metadata": {},
     "output_type": "execute_result"
    }
   ],
   "source": [
    "data * 10 # 배열의 각각의 위치에 있는 값에 10이 곱해진다."
   ]
  },
  {
   "cell_type": "code",
   "execution_count": 7,
   "metadata": {
    "collapsed": false
   },
   "outputs": [
    {
     "data": {
      "text/plain": [
       "array([[-0.62362698,  1.51539437, -2.77438515],\n",
       "       [-0.67287649, -1.45537344,  1.11527605]])"
      ]
     },
     "execution_count": 7,
     "metadata": {},
     "output_type": "execute_result"
    }
   ],
   "source": [
    "data + data # 각각의 위치에 해당하는 값들 끼리 더해진다."
   ]
  },
  {
   "cell_type": "code",
   "execution_count": 8,
   "metadata": {
    "collapsed": false
   },
   "outputs": [
    {
     "name": "stdout",
     "output_type": "stream",
     "text": [
      "(2, 3) <class 'tuple'>\n"
     ]
    }
   ],
   "source": [
    "print(data.shape, type(data.shape))"
   ]
  },
  {
   "cell_type": "code",
   "execution_count": 9,
   "metadata": {
    "collapsed": false
   },
   "outputs": [
    {
     "name": "stdout",
     "output_type": "stream",
     "text": [
      "float64 <class 'numpy.dtype'>\n"
     ]
    }
   ],
   "source": [
    "print(data.dtype, type(data.dtype))"
   ]
  },
  {
   "cell_type": "markdown",
   "metadata": {},
   "source": [
    "### 1.1 ndarray 생성\n",
    "배열을 생성하는 가장 쉬운 방법은 array 함수를 이용하는 것이다. 순차적인 객체(다른 배열도 포함하여)를 받아 넘겨받은 데이터가 들어있는 새로운 Numpy 배열을 생성한다.<br>\n",
    "아래는 배열을 생성하는 함수 목록이다. Numpy는 산술연산에 초점이 맞춰져있기 때문에 만약 자료형이 명시되지 않는다면 float64(부동소수점)가 될 것이다."
   ]
  },
  {
   "cell_type": "markdown",
   "metadata": {},
   "source": [
    "**<표> 배열 생성함수 **"
   ]
  },
  {
   "cell_type": "markdown",
   "metadata": {},
   "source": [
    "|        함수       |                                                                                           설명                                                                                          |\n",
    "|:-----------------:|:---------------------------------------------------------------------------------------------------------------------------------------------------------------------------------------:|\n",
    "|       array       |        입력데이터(리스트, 튜플, 배열 또는 다른 순차형 데이터)를 ndarray로 변환하여 dtype이 명시되지 않은 경우에는 자료형을 추론하여 저장한다. 기본적으로 입력 데이터는 복사된다.        |\n",
    "|      asarray      |                                                입력 데이터를 ndarray로 변환하지만 입력 데이터가 이미 ndarray일 경우, 복사가 되지 않는다.                                                |\n",
    "|       arange      |                                                               내장 range 함수와 유사하지만 리스트 대신 ndarray를 반환한다.                                                              |\n",
    "|  ones, ones_like  | 주어진 dtype과 주어진 모양을 가지는 배열을 생성하고 내용을 모두 1로 초기화한다. ones_like는 주어진 배열과 동일한 모영과 dtype를 가지는 배열을 새로 생성하여 내용을 모두 1로 초기화한다. |\n",
    "| zeros, zeros_like |                                                                      ones, ones_like와 같지만 내용을 0으로 채운다.                                                                      |\n",
    "| empty, empty_like |                                                  메모리를 할당하여 새로운 배열을 생성하지만 ones나 zeros처럼 값을 초기화하지는 않는다.                                                  |\n",
    "|   eye, identity   |                                                                              N x N의 단위 행렬을 생성한다.                                                                              |"
   ]
  },
  {
   "cell_type": "code",
   "execution_count": 10,
   "metadata": {
    "collapsed": false
   },
   "outputs": [
    {
     "name": "stdout",
     "output_type": "stream",
     "text": [
      "[ 6.   7.5  8.   0.   1. ] 1 (5,) float64\n"
     ]
    }
   ],
   "source": [
    "data1 = [6, 7.5, 8, 0, 1]\n",
    "arr1 = np.array(data1)\n",
    "print(arr1, arr1.ndim,arr1.shape, arr1.dtype)"
   ]
  },
  {
   "cell_type": "code",
   "execution_count": 11,
   "metadata": {
    "collapsed": false
   },
   "outputs": [
    {
     "name": "stdout",
     "output_type": "stream",
     "text": [
      "[[1 2 3 4]\n",
      " [5 6 7 8]] 2 (2, 4) int32\n"
     ]
    }
   ],
   "source": [
    "data2 = [[1, 2, 3, 4], [5, 6, 7, 8]]\n",
    "arr2 = np.array(data2)\n",
    "print(arr2, arr2.ndim, arr2.shape, arr2.dtype)"
   ]
  },
  {
   "cell_type": "code",
   "execution_count": 12,
   "metadata": {
    "collapsed": false
   },
   "outputs": [
    {
     "name": "stdout",
     "output_type": "stream",
     "text": [
      "[ 1.  1.  1.  1.  1.  1.  1.  1.  1.  1.] 1 (10,) float64\n"
     ]
    }
   ],
   "source": [
    "data3 = np.ones(10)\n",
    "print(data3, data3.ndim, data3.shape, data3.dtype)"
   ]
  },
  {
   "cell_type": "code",
   "execution_count": 13,
   "metadata": {
    "collapsed": false
   },
   "outputs": [
    {
     "name": "stdout",
     "output_type": "stream",
     "text": [
      "[[1 1 1 1]\n",
      " [1 1 1 1]] 2 (2, 4) int32\n"
     ]
    }
   ],
   "source": [
    "data4 = np.ones_like(data2)\n",
    "print(data4, data4.ndim, data4.shape, data4.dtype)"
   ]
  },
  {
   "cell_type": "code",
   "execution_count": 14,
   "metadata": {
    "collapsed": false
   },
   "outputs": [
    {
     "name": "stdout",
     "output_type": "stream",
     "text": [
      "[ 0.  0.  0.  0.  0.  0.  0.  0.  0.  0.] 1 (10,) float64\n"
     ]
    }
   ],
   "source": [
    "data5 = np.zeros(10)\n",
    "print(data5, data5.ndim, data5.shape, data5.dtype)"
   ]
  },
  {
   "cell_type": "code",
   "execution_count": 15,
   "metadata": {
    "collapsed": false
   },
   "outputs": [
    {
     "name": "stdout",
     "output_type": "stream",
     "text": [
      "[[0 0 0 0]\n",
      " [0 0 0 0]] 2 (2, 4) int32\n"
     ]
    }
   ],
   "source": [
    "data5 = np.zeros_like(data2)\n",
    "print(data5, data5.ndim, data5.shape, data5.dtype)"
   ]
  },
  {
   "cell_type": "code",
   "execution_count": 16,
   "metadata": {
    "collapsed": false
   },
   "outputs": [
    {
     "name": "stdout",
     "output_type": "stream",
     "text": [
      "[0 1 2 3 4 5 6 7 8 9] 1 (10,) int32\n"
     ]
    }
   ],
   "source": [
    "data6 = np.arange(10) # 파이썬의 range 함수의 배열 버전\n",
    "print(data6, data6.ndim, data6.shape, data6.dtype)"
   ]
  },
  {
   "cell_type": "code",
   "execution_count": 17,
   "metadata": {
    "collapsed": false
   },
   "outputs": [
    {
     "name": "stdout",
     "output_type": "stream",
     "text": [
      "[[[  1.28130610e-311   1.28127303e-311]\n",
      "  [  0.00000000e+000   0.00000000e+000]\n",
      "  [  0.00000000e+000   0.00000000e+000]]\n",
      "\n",
      " [[  0.00000000e+000   0.00000000e+000]\n",
      "  [  0.00000000e+000   0.00000000e+000]\n",
      "  [  0.00000000e+000   0.00000000e+000]]] [[0 0 0 0]\n",
      " [0 0 0 0]]\n"
     ]
    }
   ],
   "source": [
    "data7 = np.empty((2,3,2)) # empty 함수는 초기화되지 않은 배열을 생성하는데, 다차원 배열의 원하는 형태를 튜플로 넘기면 된다.\n",
    "data8 = np.empty_like(data2)\n",
    "print(data7, data8)"
   ]
  },
  {
   "cell_type": "code",
   "execution_count": 18,
   "metadata": {
    "collapsed": false
   },
   "outputs": [
    {
     "name": "stdout",
     "output_type": "stream",
     "text": [
      "[[ 1.  0.]\n",
      " [ 0.  1.]]\n",
      "[[ 1.  0.]\n",
      " [ 0.  1.]]\n"
     ]
    }
   ],
   "source": [
    "print(np.eye(2))\n",
    "print(np.identity(2))"
   ]
  },
  {
   "cell_type": "markdown",
   "metadata": {},
   "source": [
    "### 1.2 ndarray의 자료형\n",
    "* 자료형, dtype은 ndarray가 특정 데이터를 메모리에서 해석하기위해 필요한 정보를 담고 있는 특수한 객체\n",
    "* ndarray를 생성할 때 dtype을 지정해 줄 수 있다.\n",
    "* ndarray의 astype 메서드를 이용하여 배열의 dtype을 다른 형으로 명시적 변경이 가능"
   ]
  },
  {
   "cell_type": "markdown",
   "metadata": {},
   "source": [
    "**<표> Numpy 자료형 **"
   ]
  },
  {
   "cell_type": "markdown",
   "metadata": {},
   "source": [
    "|                종류               |   Type Code  |                                                   설명                                                  |\n",
    "|:---------------------------------:|:------------:|:-------------------------------------------------------------------------------------------------------:|\n",
    "|             int8, uint8           |    i1, u1    |                       부호가 있는 8비트(1바이트) 정수형과 부호가 없는 8비트 정수형                      |\n",
    "|           int16, uint16           |    i2, u2    |                          부호가 있는 16비트 정수형과 부호가 없는 16비트 정수형                          |\n",
    "|           int32, uint32           |    i4, u4    |                          부호가 있는 32비트 정수형과 부호가 없는 32비트 정수형                          |\n",
    "|           int64, uint64           |    i8, u8    |                          부호가 있는 64비트 정수형과 부호가 없는 64비트 정수형                          |\n",
    "|              float16              |      f2      |                                           반정밀도 부동 소수점                                          |\n",
    "|              float32              |   f4 또는 f  |                               단정밀도 부동소수점, C 언어의 float형과 호환                              |\n",
    "|              float64              |   f8 또는 d  |                   배정밀도 부동소수점, C 언어의 double형과 파이썬의 float 객체와 호환                   |\n",
    "|              float128             |  f16 또는 g  |                                          확장 정밀도 부동소수점                                         |\n",
    "| complex64, complex128, complex256 | c8, c16, c32 |                         각각 2개의 32, 64, 128비트 부동소수점형을 가지는 복소수                         |\n",
    "|                boo1               |       ?      |                                    True, False 값을 저장하는 불리언형                                   |\n",
    "|               object              |       0      |                                              파이썬 객체형                                              |\n",
    "|              string_             |       S      |             고정 길이 문자열형(각 글자는 1바이트), 길이가 10인 문자열의 dtype은 S10이 된다.             |\n",
    "|              unicode_             |       U      | 고정 길이 유니코드형(플랫폼에 따라 글자별 바이트 수는 다르다).<br> strings_형과 같은 형식을 쓴다.(예 : U10) |"
   ]
  },
  {
   "cell_type": "code",
   "execution_count": 196,
   "metadata": {
    "collapsed": false
   },
   "outputs": [
    {
     "data": {
      "text/plain": [
       "{'All': '?bhilqpBHILQPefdgFDGSUVOMm',\n",
       " 'AllFloat': 'efdgFDG',\n",
       " 'AllInteger': 'bBhHiIlLqQpP',\n",
       " 'Character': 'c',\n",
       " 'Complex': 'FDG',\n",
       " 'Datetime': 'Mm',\n",
       " 'Float': 'efdg',\n",
       " 'Integer': 'bhilqp',\n",
       " 'UnsignedInteger': 'BHILQP'}"
      ]
     },
     "execution_count": 196,
     "metadata": {},
     "output_type": "execute_result"
    }
   ],
   "source": [
    "np.typecodes "
   ]
  },
  {
   "cell_type": "code",
   "execution_count": 197,
   "metadata": {
    "collapsed": false
   },
   "outputs": [
    {
     "data": {
      "text/plain": [
       "{'complex': [numpy.complex64, numpy.complex128],\n",
       " 'float': [numpy.float16, numpy.float32, numpy.float64],\n",
       " 'int': [numpy.int8, numpy.int16, numpy.int32, numpy.int64],\n",
       " 'others': [bool, object, str, str, numpy.void],\n",
       " 'uint': [numpy.uint8, numpy.uint16, numpy.uint32, numpy.uint64]}"
      ]
     },
     "execution_count": 197,
     "metadata": {},
     "output_type": "execute_result"
    }
   ],
   "source": [
    "np.sctypes"
   ]
  },
  {
   "cell_type": "code",
   "execution_count": 198,
   "metadata": {
    "collapsed": false
   },
   "outputs": [
    {
     "name": "stdout",
     "output_type": "stream",
     "text": [
      "float64 int32\n"
     ]
    }
   ],
   "source": [
    "# 자료형을 명시적으로 지정하여 ndarray를 생성\n",
    "arr1= np.array([1,2,3], dtype = np.float64)\n",
    "arr2= np.array([1,2,3], dtype = np.int32)\n",
    "print(arr1.dtype, arr2.dtype)"
   ]
  },
  {
   "cell_type": "code",
   "execution_count": 199,
   "metadata": {
    "collapsed": false
   },
   "outputs": [
    {
     "name": "stdout",
     "output_type": "stream",
     "text": [
      "[1 2 3 4 5] int32\n",
      "[ 1.  2.  3.  4.  5.] float64\n"
     ]
    }
   ],
   "source": [
    "# ndarrary 클래스일 경우 astype 메서드를 사용하여 배열의 dtype을 다른 형으로 명시적을 변경\n",
    "arr = np.array([1, 2, 3, 4, 5])\n",
    "float_arr = arr.astype(np.float64)\n",
    "print(arr ,arr.dtype)\n",
    "print(float_arr, float_arr.dtype)"
   ]
  },
  {
   "cell_type": "code",
   "execution_count": 200,
   "metadata": {
    "collapsed": false
   },
   "outputs": [
    {
     "name": "stdout",
     "output_type": "stream",
     "text": [
      "[  3.7  -1.2  -2.6   0.5  12.9  10.1] [ 3 -1 -2  0 12 10]\n"
     ]
    }
   ],
   "source": [
    "# 부동소수점 숫자자료형을 정수형으로 변환시 소수잠 아랫자리는 버려진다.\n",
    "arr1 = np.array([3.7, -1.2, -2.6, 0.5, 12.9, 10.1])\n",
    "print(arr1, arr1.astype(np.int32))"
   ]
  },
  {
   "cell_type": "code",
   "execution_count": 201,
   "metadata": {
    "collapsed": false
   },
   "outputs": [
    {
     "name": "stdout",
     "output_type": "stream",
     "text": [
      "[b'1.25' b'-9.6' b'42'] |S4\n"
     ]
    },
    {
     "data": {
      "text/plain": [
       "array([  1.25,  -9.6 ,  42.  ])"
      ]
     },
     "execution_count": 201,
     "metadata": {},
     "output_type": "execute_result"
    }
   ],
   "source": [
    "#숫자 형식의 문자열을 담고 있는 배열이 있다면 astype를 사용하여 숫자로 변환할 수 있다.\n",
    "numeric_strings = np.array(['1.25', '-9.6', '42'], dtype = np.string_)\n",
    "print(numeric_strings, numeric_strings.dtype)\n",
    "numeric_strings.astype(np.float64)"
   ]
  },
  {
   "cell_type": "code",
   "execution_count": 202,
   "metadata": {
    "collapsed": false
   },
   "outputs": [
    {
     "data": {
      "text/plain": [
       "array([ 0.,  1.,  2.,  3.,  4.,  5.,  6.,  7.,  8.,  9.])"
      ]
     },
     "execution_count": 202,
     "metadata": {},
     "output_type": "execute_result"
    }
   ],
   "source": [
    "int_array = np.arange(10)\n",
    "calibers = np.array([.22, .270, .357, .380, .44, .50], dtype = np.float64)\n",
    "int_array.astype(calibers.dtype)"
   ]
  },
  {
   "cell_type": "code",
   "execution_count": 203,
   "metadata": {
    "collapsed": false
   },
   "outputs": [
    {
     "data": {
      "text/plain": [
       "array([0, 0, 0, 0, 0, 0, 0, 0], dtype=uint32)"
      ]
     },
     "execution_count": 203,
     "metadata": {},
     "output_type": "execute_result"
    }
   ],
   "source": [
    "empty_uint32 = np.empty(8, dtype = 'u4')\n",
    "empty_uint32"
   ]
  },
  {
   "cell_type": "markdown",
   "metadata": {},
   "source": [
    "### 1.3 배열과 스칼라 간의 연산\n",
    "배열은 for 반복문을 작성하지 않고 데이터를 일괄처리할 수 있기 때문에 중요하다.(Vectorization) 같은 크기의 배열 간 산술연산은 각 요소 단위로 적용된다."
   ]
  },
  {
   "cell_type": "code",
   "execution_count": 204,
   "metadata": {
    "collapsed": false
   },
   "outputs": [
    {
     "name": "stdout",
     "output_type": "stream",
     "text": [
      "[[1 2 3]\n",
      " [4 5 6]]\n"
     ]
    }
   ],
   "source": [
    "arr = np.array([[1, 2, 3,], [4, 5, 6]])\n",
    "print(arr)"
   ]
  },
  {
   "cell_type": "code",
   "execution_count": 205,
   "metadata": {
    "collapsed": false
   },
   "outputs": [
    {
     "name": "stdout",
     "output_type": "stream",
     "text": [
      "[[ 1  4  9]\n",
      " [16 25 36]]\n",
      "[[ 2  4  6]\n",
      " [ 8 10 12]]\n",
      "[[ 1.          0.5         0.33333333]\n",
      " [ 0.25        0.2         0.16666667]]\n",
      "[[ 1.          1.41421356  1.73205081]\n",
      " [ 2.          2.23606798  2.44948974]]\n"
     ]
    }
   ],
   "source": [
    "print(arr * arr)\n",
    "print(arr + arr)\n",
    "print(1 / arr)\n",
    "print(arr ** 0.5)"
   ]
  },
  {
   "cell_type": "markdown",
   "metadata": {},
   "source": [
    "### 1.4 색인과 슬라이싱 기초"
   ]
  },
  {
   "cell_type": "markdown",
   "metadata": {},
   "source": [
    "#### 1.4.1 1차원 배열\n",
    "* 1차원 배열은 리스트와 유사하게 작동한다. 리스트와의 중요한 차이점은 배열 조각(slice)는 원본 배열의 뷰(view)라는 점, 데이터는 복사되지 않고 뷰에 대한 변경은 그대로 원본 배열에 반영된다는 뜻\n",
    "* 뷰 대신 ndarray 슬라이스의 복사본을 얻고 싶다면 ndarray[].copy()를 사용해서 명시적으로 배열을 복사해서 활용하자"
   ]
  },
  {
   "cell_type": "code",
   "execution_count": 206,
   "metadata": {
    "collapsed": false
   },
   "outputs": [
    {
     "name": "stdout",
     "output_type": "stream",
     "text": [
      "[0 1 2 3 4 5 6 7 8 9]\n",
      "5\n",
      "[5 6 7]\n"
     ]
    }
   ],
   "source": [
    "arr = np.arange(10)\n",
    "print(arr)\n",
    "print(arr[5])\n",
    "print(arr[5:8])"
   ]
  },
  {
   "cell_type": "code",
   "execution_count": 207,
   "metadata": {
    "collapsed": false
   },
   "outputs": [
    {
     "name": "stdout",
     "output_type": "stream",
     "text": [
      "[ 0  1  2  3  4 12 12 12  8  9]\n"
     ]
    }
   ],
   "source": [
    "arr[5:8] = 12 #브로드캐스팅\n",
    "print(arr)"
   ]
  },
  {
   "cell_type": "code",
   "execution_count": 208,
   "metadata": {
    "collapsed": false
   },
   "outputs": [
    {
     "name": "stdout",
     "output_type": "stream",
     "text": [
      "[   12 12345    12] [    0     1     2     3     4    12 12345    12     8     9]\n"
     ]
    }
   ],
   "source": [
    "# arr_slice는 arr의 슬라이스의 뷰가아니라 원본 배열의 뷰이기 때문에 아래의 코드때문에 원본 배열때문에 변경된 것을 볼 수 있다.\n",
    "arr_slice = arr[5:8]\n",
    "arr_slice[1] = 12345\n",
    "print(arr_slice, arr)"
   ]
  },
  {
   "cell_type": "code",
   "execution_count": 209,
   "metadata": {
    "collapsed": false
   },
   "outputs": [
    {
     "name": "stdout",
     "output_type": "stream",
     "text": [
      "[64 64 64] [ 0  1  2  3  4 64 64 64  8  9]\n"
     ]
    }
   ],
   "source": [
    "arr_slice[:] = 64\n",
    "print(arr_slice, arr)"
   ]
  },
  {
   "cell_type": "code",
   "execution_count": 210,
   "metadata": {
    "collapsed": false
   },
   "outputs": [
    {
     "name": "stdout",
     "output_type": "stream",
     "text": [
      "[64 64 64]\n"
     ]
    }
   ],
   "source": [
    "# ndarray[].copy()를 이용\n",
    "arr_slice1 = arr[5:8].copy()\n",
    "print(arr_slice1)"
   ]
  },
  {
   "cell_type": "code",
   "execution_count": 211,
   "metadata": {
    "collapsed": false
   },
   "outputs": [
    {
     "name": "stdout",
     "output_type": "stream",
     "text": [
      "[15 15 15] [ 0  1  2  3  4 64 64 64  8  9]\n"
     ]
    }
   ],
   "source": [
    "arr_slice1[:] = 15\n",
    "print(arr_slice1, arr)"
   ]
  },
  {
   "cell_type": "markdown",
   "metadata": {},
   "source": [
    "#### 1.4.2 다차원 배열\n",
    "* 2차원 배열에서 각 색인에 해당하는 요소는 스칼라 값이 아니라 1차원 배열이 된다.\n",
    "* 2차원 배열의 경우 0번째 축, 1번째 축 중 0번째를 먼저 기준으로 하여 슬라이싱"
   ]
  },
  {
   "cell_type": "code",
   "execution_count": 212,
   "metadata": {
    "collapsed": false
   },
   "outputs": [
    {
     "data": {
      "text/plain": [
       "array([[1, 2, 3],\n",
       "       [4, 5, 6],\n",
       "       [7, 8, 9]])"
      ]
     },
     "execution_count": 212,
     "metadata": {},
     "output_type": "execute_result"
    }
   ],
   "source": [
    "arr2d = np.array([[1, 2, 3], [4, 5, 6], [7, 8, 9]])\n",
    "arr2d"
   ]
  },
  {
   "cell_type": "code",
   "execution_count": 213,
   "metadata": {
    "collapsed": false
   },
   "outputs": [
    {
     "name": "stdout",
     "output_type": "stream",
     "text": [
      "[1 2 3] [4 5 6] [7 8 9]\n"
     ]
    }
   ],
   "source": [
    "print(arr2d[0], arr2d[1], arr2d[2])"
   ]
  },
  {
   "cell_type": "code",
   "execution_count": 214,
   "metadata": {
    "collapsed": false
   },
   "outputs": [
    {
     "name": "stdout",
     "output_type": "stream",
     "text": [
      "3 3\n"
     ]
    }
   ],
   "source": [
    "print(arr2d[0,2], arr2d[0][2])"
   ]
  },
  {
   "cell_type": "code",
   "execution_count": 215,
   "metadata": {
    "collapsed": true
   },
   "outputs": [],
   "source": [
    "arr3d = np.array([[[1, 2, 3], [4, 5, 6]], [[7, 8, 9], [10 ,11 ,12]]])"
   ]
  },
  {
   "cell_type": "code",
   "execution_count": 216,
   "metadata": {
    "collapsed": false
   },
   "outputs": [
    {
     "data": {
      "text/plain": [
       "array([[[ 1,  2,  3],\n",
       "        [ 4,  5,  6]],\n",
       "\n",
       "       [[ 7,  8,  9],\n",
       "        [10, 11, 12]]])"
      ]
     },
     "execution_count": 216,
     "metadata": {},
     "output_type": "execute_result"
    }
   ],
   "source": [
    "arr3d"
   ]
  },
  {
   "cell_type": "code",
   "execution_count": 217,
   "metadata": {
    "collapsed": false
   },
   "outputs": [
    {
     "name": "stdout",
     "output_type": "stream",
     "text": [
      "[[1 2 3]\n",
      " [4 5 6]]\n",
      "[[ 7  8  9]\n",
      " [10 11 12]]\n",
      "[4 5 6] 4\n"
     ]
    }
   ],
   "source": [
    "print(arr3d[0])\n",
    "print(arr3d[1])\n",
    "print(arr3d[0,1], arr3d[0][1,0])"
   ]
  },
  {
   "cell_type": "code",
   "execution_count": 218,
   "metadata": {
    "collapsed": false
   },
   "outputs": [
    {
     "name": "stdout",
     "output_type": "stream",
     "text": [
      "[[[42 42 42]\n",
      "  [42 42 42]]\n",
      "\n",
      " [[ 7  8  9]\n",
      "  [10 11 12]]]\n"
     ]
    }
   ],
   "source": [
    "old_values = arr3d[0].copy()\n",
    "arr3d[0]= 42\n",
    "print(arr3d)"
   ]
  },
  {
   "cell_type": "code",
   "execution_count": 219,
   "metadata": {
    "collapsed": false
   },
   "outputs": [
    {
     "name": "stdout",
     "output_type": "stream",
     "text": [
      "[[[ 1  2  3]\n",
      "  [ 4  5  6]]\n",
      "\n",
      " [[ 7  8  9]\n",
      "  [10 11 12]]]\n"
     ]
    }
   ],
   "source": [
    "arr3d[0] = old_values\n",
    "print(arr3d)"
   ]
  },
  {
   "cell_type": "markdown",
   "metadata": {},
   "source": [
    "#### 1.4.3 슬라이스 색인"
   ]
  },
  {
   "cell_type": "code",
   "execution_count": 220,
   "metadata": {
    "collapsed": false
   },
   "outputs": [
    {
     "data": {
      "text/plain": [
       "array([ 0,  1,  2,  3,  4, 64, 64, 64,  8,  9])"
      ]
     },
     "execution_count": 220,
     "metadata": {},
     "output_type": "execute_result"
    }
   ],
   "source": [
    "arr"
   ]
  },
  {
   "cell_type": "code",
   "execution_count": 221,
   "metadata": {
    "collapsed": false
   },
   "outputs": [
    {
     "data": {
      "text/plain": [
       "array([ 1,  2,  3,  4, 64])"
      ]
     },
     "execution_count": 221,
     "metadata": {},
     "output_type": "execute_result"
    }
   ],
   "source": [
    "arr[1:6]"
   ]
  },
  {
   "cell_type": "code",
   "execution_count": 222,
   "metadata": {
    "collapsed": false
   },
   "outputs": [
    {
     "name": "stdout",
     "output_type": "stream",
     "text": [
      "[[1 2 3]\n",
      " [4 5 6]\n",
      " [7 8 9]]\n",
      "[[1 2 3]\n",
      " [4 5 6]]\n"
     ]
    }
   ],
   "source": [
    "print(arr2d)\n",
    "print(arr2d[:2])"
   ]
  },
  {
   "cell_type": "code",
   "execution_count": 223,
   "metadata": {
    "collapsed": false
   },
   "outputs": [
    {
     "name": "stdout",
     "output_type": "stream",
     "text": [
      "[[2 3]\n",
      " [5 6]]\n",
      "[5 6] [7 8]\n"
     ]
    }
   ],
   "source": [
    "print(arr2d[:2,1:])\n",
    "print(arr2d[1,1:], arr2d[2,:2])"
   ]
  },
  {
   "cell_type": "code",
   "execution_count": 224,
   "metadata": {
    "collapsed": false
   },
   "outputs": [
    {
     "data": {
      "text/plain": [
       "5"
      ]
     },
     "execution_count": 224,
     "metadata": {},
     "output_type": "execute_result"
    }
   ],
   "source": [
    "arr2d[1,1]"
   ]
  },
  {
   "cell_type": "code",
   "execution_count": 225,
   "metadata": {
    "collapsed": false
   },
   "outputs": [
    {
     "name": "stdout",
     "output_type": "stream",
     "text": [
      "[[1]\n",
      " [4]]\n"
     ]
    }
   ],
   "source": [
    "arr2d[:,:1] # :은 단독으로 쓰였을 때 전체를 선택한다는 의미\n",
    "print(arr2d[:2,:1])"
   ]
  },
  {
   "cell_type": "code",
   "execution_count": 226,
   "metadata": {
    "collapsed": false
   },
   "outputs": [
    {
     "name": "stdout",
     "output_type": "stream",
     "text": [
      "[[1 0 0]\n",
      " [4 5 6]\n",
      " [7 8 9]]\n"
     ]
    }
   ],
   "source": [
    "arr2d[:1,1:] = 0 # 슬라이싱 구문에 값을 대입하면 선택 영역 전체에 값이 할당된다.\n",
    "print(arr2d)"
   ]
  },
  {
   "cell_type": "markdown",
   "metadata": {},
   "source": [
    "### 1.5 불리언 색인\n",
    "* 불리언 배열은 반드시 색인하려는 축의 길이와 동일한 길이를 가져야한다.\n",
    "* 불리언 배열 색인도 슬라이스 또는 숫자 색인과 함께 혼용할 수 있다.\n",
    "* 배열에 불리언 색인을 이용해서 데이터를 선택하면 원본 배열의 뷰가 아니라 복사본이다.\n",
    "* 여러개의 불리언 조건을 사용하려면 &(and)나 |(or)를 활용한다."
   ]
  },
  {
   "cell_type": "code",
   "execution_count": 227,
   "metadata": {
    "collapsed": false
   },
   "outputs": [
    {
     "name": "stdout",
     "output_type": "stream",
     "text": [
      "['Bob' 'Joe' 'Will' 'Bob' 'Will' 'Joe' 'Joe']\n",
      "[[-0.57604683  0.96272551 -0.17703719 -0.89563162]\n",
      " [ 0.60247348 -0.17377203  0.32003499 -0.12425465]\n",
      " [ 0.17521408  0.33513574 -0.53297111 -0.49849708]\n",
      " [-0.10808443 -1.50862251  2.17756818 -1.16182667]\n",
      " [ 0.11683128  0.58385058  1.4951534  -0.31066727]\n",
      " [ 1.12119866  0.22425302  2.31914197  0.11028973]\n",
      " [ 1.73337845  0.96656803  0.98559527  0.51638712]] (7, 4)\n"
     ]
    }
   ],
   "source": [
    "names = np.array(['Bob', 'Joe', 'Will', 'Bob', 'Will', 'Joe', 'Joe'])\n",
    "data = np.random.randn(7,4)\n",
    "print(names)\n",
    "print(data, data.shape)"
   ]
  },
  {
   "cell_type": "markdown",
   "metadata": {},
   "source": [
    "각각의 이름은 data 배열의 각 로우에 대응한다고 가정하고 아래와 같이 색인할 수 있다."
   ]
  },
  {
   "cell_type": "code",
   "execution_count": 228,
   "metadata": {
    "collapsed": false
   },
   "outputs": [
    {
     "data": {
      "text/plain": [
       "array([ True, False, False,  True, False, False, False], dtype=bool)"
      ]
     },
     "execution_count": 228,
     "metadata": {},
     "output_type": "execute_result"
    }
   ],
   "source": [
    "names == 'Bob'"
   ]
  },
  {
   "cell_type": "code",
   "execution_count": 229,
   "metadata": {
    "collapsed": false
   },
   "outputs": [
    {
     "data": {
      "text/plain": [
       "array([[-0.57604683,  0.96272551, -0.17703719, -0.89563162],\n",
       "       [-0.10808443, -1.50862251,  2.17756818, -1.16182667]])"
      ]
     },
     "execution_count": 229,
     "metadata": {},
     "output_type": "execute_result"
    }
   ],
   "source": [
    "data[names == 'Bob']"
   ]
  },
  {
   "cell_type": "code",
   "execution_count": 230,
   "metadata": {
    "collapsed": false
   },
   "outputs": [
    {
     "data": {
      "text/plain": [
       "array([[-0.57604683],\n",
       "       [-0.10808443]])"
      ]
     },
     "execution_count": 230,
     "metadata": {},
     "output_type": "execute_result"
    }
   ],
   "source": [
    "data[names == 'Bob', :1]"
   ]
  },
  {
   "cell_type": "code",
   "execution_count": 231,
   "metadata": {
    "collapsed": false
   },
   "outputs": [
    {
     "data": {
      "text/plain": [
       "array([ 0.96272551, -1.50862251])"
      ]
     },
     "execution_count": 231,
     "metadata": {},
     "output_type": "execute_result"
    }
   ],
   "source": [
    "data[names == 'Bob', 1]"
   ]
  },
  {
   "cell_type": "code",
   "execution_count": 232,
   "metadata": {
    "collapsed": false
   },
   "outputs": [
    {
     "data": {
      "text/plain": [
       "array([False,  True,  True, False,  True,  True,  True], dtype=bool)"
      ]
     },
     "execution_count": 232,
     "metadata": {},
     "output_type": "execute_result"
    }
   ],
   "source": [
    "names != 'Bob'"
   ]
  },
  {
   "cell_type": "code",
   "execution_count": 233,
   "metadata": {
    "collapsed": false
   },
   "outputs": [
    {
     "name": "stdout",
     "output_type": "stream",
     "text": [
      "[[ 0.60247348 -0.17377203  0.32003499 -0.12425465]\n",
      " [ 0.17521408  0.33513574 -0.53297111 -0.49849708]\n",
      " [ 0.11683128  0.58385058  1.4951534  -0.31066727]\n",
      " [ 1.12119866  0.22425302  2.31914197  0.11028973]\n",
      " [ 1.73337845  0.96656803  0.98559527  0.51638712]]\n",
      "[[ 0.60247348 -0.17377203  0.32003499 -0.12425465]\n",
      " [ 0.17521408  0.33513574 -0.53297111 -0.49849708]\n",
      " [ 0.11683128  0.58385058  1.4951534  -0.31066727]\n",
      " [ 1.12119866  0.22425302  2.31914197  0.11028973]\n",
      " [ 1.73337845  0.96656803  0.98559527  0.51638712]]\n"
     ]
    }
   ],
   "source": [
    "print(data[names != 'Bob']) # equal to data[names != 'Bob',]\n",
    "print(data[~(names == 'Bob')]) # 부정을 의미할때 ~를 사용한다."
   ]
  },
  {
   "cell_type": "code",
   "execution_count": 234,
   "metadata": {
    "collapsed": false
   },
   "outputs": [
    {
     "data": {
      "text/plain": [
       "array([[-0.57604683,  0.96272551, -0.17703719, -0.89563162],\n",
       "       [ 0.60247348, -0.17377203,  0.32003499, -0.12425465],\n",
       "       [-0.10808443, -1.50862251,  2.17756818, -1.16182667],\n",
       "       [ 1.12119866,  0.22425302,  2.31914197,  0.11028973],\n",
       "       [ 1.73337845,  0.96656803,  0.98559527,  0.51638712]])"
      ]
     },
     "execution_count": 234,
     "metadata": {},
     "output_type": "execute_result"
    }
   ],
   "source": [
    "data[(names == 'Bob') | (names == 'Joe')]"
   ]
  },
  {
   "cell_type": "markdown",
   "metadata": {},
   "source": [
    "### 1.6 팬시 색인\n",
    "* 정수 배열을 사용한 색인\n",
    "* 불리언 색인과 마찬가지로 선택된 데이터를 새로운 배열로 복사한다.\n",
    "* 특정한 순서로 로우를 선택하고 싶다면 원하는 순서가 명시된 정수가 담긴 ndarray나 리스트를 넘긴다."
   ]
  },
  {
   "cell_type": "code",
   "execution_count": 235,
   "metadata": {
    "collapsed": false
   },
   "outputs": [
    {
     "name": "stdout",
     "output_type": "stream",
     "text": [
      "[[ 0.  0.  0.  0.]\n",
      " [ 1.  1.  1.  1.]\n",
      " [ 2.  2.  2.  2.]\n",
      " [ 3.  3.  3.  3.]\n",
      " [ 4.  4.  4.  4.]\n",
      " [ 5.  5.  5.  5.]\n",
      " [ 6.  6.  6.  6.]\n",
      " [ 7.  7.  7.  7.]]\n"
     ]
    }
   ],
   "source": [
    "arr = np.empty((8,4))\n",
    "for i in range(8):\n",
    "    arr[i] = i\n",
    "print(arr)"
   ]
  },
  {
   "cell_type": "code",
   "execution_count": 236,
   "metadata": {
    "collapsed": false
   },
   "outputs": [
    {
     "data": {
      "text/plain": [
       "array([[ 3.,  3.,  3.,  3.],\n",
       "       [ 2.,  2.,  2.,  2.],\n",
       "       [ 1.,  1.,  1.,  1.],\n",
       "       [ 0.,  0.,  0.,  0.]])"
      ]
     },
     "execution_count": 236,
     "metadata": {},
     "output_type": "execute_result"
    }
   ],
   "source": [
    "arr[[3,2,1,0]]"
   ]
  },
  {
   "cell_type": "code",
   "execution_count": 237,
   "metadata": {
    "collapsed": false
   },
   "outputs": [
    {
     "data": {
      "text/plain": [
       "array([[ 5.,  5.,  5.,  5.],\n",
       "       [ 3.,  3.,  3.,  3.],\n",
       "       [ 1.,  1.,  1.,  1.]])"
      ]
     },
     "execution_count": 237,
     "metadata": {},
     "output_type": "execute_result"
    }
   ],
   "source": [
    "arr[[-3,-5,-7]] # 색인으로 음수를 사용하면 끝에서부터 로우를 선택한다."
   ]
  },
  {
   "cell_type": "markdown",
   "metadata": {},
   "source": [
    "### 1.7 배열 전치와 축 바꾸기\n",
    "배열 전치는 데이터를 복사하지 않고 데이터 모양이 바뀐 뷰를 반환하는 기능\n",
    "* 2차원 배열이나 1차원 배열의 경우 ndarray.T의 형태로 T라는 메서드를 활용한다.\n",
    "* 다차원 배열의 경우 ndarray.transpose()의 형태로 축번호를 인자로 넣는다.(ndarray.shape)의 결과물을 활용하여 치환하면됨"
   ]
  },
  {
   "cell_type": "code",
   "execution_count": 238,
   "metadata": {
    "collapsed": false
   },
   "outputs": [
    {
     "data": {
      "text/plain": [
       "array([[ 0,  1,  2,  3,  4],\n",
       "       [ 5,  6,  7,  8,  9],\n",
       "       [10, 11, 12, 13, 14]])"
      ]
     },
     "execution_count": 238,
     "metadata": {},
     "output_type": "execute_result"
    }
   ],
   "source": [
    "arr = np.arange(15).reshape((3,5))\n",
    "arr"
   ]
  },
  {
   "cell_type": "code",
   "execution_count": 239,
   "metadata": {
    "collapsed": false
   },
   "outputs": [
    {
     "data": {
      "text/plain": [
       "array([[ 0,  5, 10],\n",
       "       [ 1,  6, 11],\n",
       "       [ 2,  7, 12],\n",
       "       [ 3,  8, 13],\n",
       "       [ 4,  9, 14]])"
      ]
     },
     "execution_count": 239,
     "metadata": {},
     "output_type": "execute_result"
    }
   ],
   "source": [
    "arr.T # Transpose 전치"
   ]
  },
  {
   "cell_type": "code",
   "execution_count": 240,
   "metadata": {
    "collapsed": false
   },
   "outputs": [
    {
     "data": {
      "text/plain": [
       "2"
      ]
     },
     "execution_count": 240,
     "metadata": {},
     "output_type": "execute_result"
    }
   ],
   "source": [
    "#내적계산\n",
    "vector1 = np.array([1,1])\n",
    "np.dot(vector1.T, vector1)"
   ]
  },
  {
   "cell_type": "code",
   "execution_count": 241,
   "metadata": {
    "collapsed": false
   },
   "outputs": [
    {
     "data": {
      "text/plain": [
       "array([[[ 0,  1,  2,  3],\n",
       "        [ 4,  5,  6,  7]],\n",
       "\n",
       "       [[ 8,  9, 10, 11],\n",
       "        [12, 13, 14, 15]]])"
      ]
     },
     "execution_count": 241,
     "metadata": {},
     "output_type": "execute_result"
    }
   ],
   "source": [
    "arr = np.arange(16).reshape((2,2,4))\n",
    "arr"
   ]
  },
  {
   "cell_type": "code",
   "execution_count": 242,
   "metadata": {
    "collapsed": true
   },
   "outputs": [],
   "source": [
    "x = np.ones((2, 2, 3))"
   ]
  },
  {
   "cell_type": "code",
   "execution_count": 243,
   "metadata": {
    "collapsed": false
   },
   "outputs": [
    {
     "name": "stdout",
     "output_type": "stream",
     "text": [
      "[[[ 1.  1.  1.]\n",
      "  [ 1.  1.  1.]]\n",
      "\n",
      " [[ 1.  1.  1.]\n",
      "  [ 1.  1.  1.]]] (2, 2, 3)\n"
     ]
    }
   ],
   "source": [
    "x\n",
    "print(x, x.shape) # 0번축이 배열의 개수 2개, 1번축이 배열의 행 2행, 2번축이 배열의 열의 개수 3열"
   ]
  },
  {
   "cell_type": "code",
   "execution_count": 244,
   "metadata": {
    "collapsed": false
   },
   "outputs": [
    {
     "name": "stdout",
     "output_type": "stream",
     "text": [
      "[[[ 1.  1.]\n",
      "  [ 1.  1.]]\n",
      "\n",
      " [[ 1.  1.]\n",
      "  [ 1.  1.]]\n",
      "\n",
      " [[ 1.  1.]\n",
      "  [ 1.  1.]]] (3, 2, 2)\n"
     ]
    }
   ],
   "source": [
    "x.transpose((2,1,0)) # 각축의 번호를 인자로 넣어서 3 * 2 * 2의 다차원 배열을 생성할 수 있다.\n",
    "print(x.transpose((2,1,0)), x.transpose((2,1,0)).shape)"
   ]
  },
  {
   "cell_type": "markdown",
   "metadata": {},
   "source": [
    "## 2. 유니버설 함수\n",
    "ufunc라고 불리는 유니버설 함수는 ndarray 안에 있는 데이터 원소별로 연산을 수행하는 함수. 유니버설 함수는 하나 이상의 스칼라 값을 받아서 하나 이상의 스칼라 결과 값을 반환하는 간단한 함수를 고속으로 수행할 수 있는 벡터화된 래퍼 함수라고 생각하면 된다."
   ]
  },
  {
   "cell_type": "markdown",
   "metadata": {},
   "source": [
    "** <표> 단항 유니버설 함수 **<br>\n",
    "하나의 인자를 받아서 하나 또는 그이상의 배열을 리턴한다."
   ]
  },
  {
   "cell_type": "markdown",
   "metadata": {},
   "source": [
    "|           함수          |                                                                       설명                                                                       |\n",
    "|:-----------------------:|:------------------------------------------------------------------------------------------------------------------------------------------------:|\n",
    "|        abs, fabs        | 각 원소(정수, 실수, 복소수)의 절대값을 구한다. 복소수가 아닌 경우에는 빠른 연산을 위해 fabs를 사용한다.                                          |\n",
    "|           sqrt          | 각 원소의 제곱근을 계산한다.                                                                                                                     |\n",
    "|          square         | 각 원소의 제곱을 계산한다.                                                                                                                       |\n",
    "|           exp           | 각 원소에서 지수 exp(x)를 계산한다.                                                                                                              |\n",
    "| log, log10, log2, log1p | 순서대로 자연로그, 밑이 10인 로그, 밑이 2인 로그, 자연로그(1+x)                                                                                  |\n",
    "|           sign          | 각 원소의 부호를 계산한다. 1(양수), 0(영), -1(음수)                                                                                              |\n",
    "|           ceil          | 각 원소의 소수자리를 올린다. 각 원소의 값보다 같거나 큰 정수 중 가장 작은 정수를 반환한다.                                                       |\n",
    "|          floor          | 각 원소의 소수자리를 내린다. 각 원소의 값보다 작거나 같은 정수 중 가장 작은 정수를 반환한다.                                                     |\n",
    "|           rint          | 각 원소의 소수자리를 반올림한다. dtype은 유지된다.                                                                                               |\n",
    "|           modf          | 각 원소의 몫과 나머지를 각각의 배열로 반환한다. (원소가 분수(소수)일 때)                                                                         |\n",
    "|          isnan          | 각각의 원소가 숫자인지 아닌지를(NaN, Not a Number) 나타내는 불리언 배열을 반환한다. nan이 True이다.                                              |\n",
    "|     isfinite, isinf     | 배열의 각 원소가 유한한지(non-inf, non-Nan), 무한한지 나타내는 불리언 배열을 반환한다.<br> isfinite은 유한한 값일 때 True, isinf는 inf일 때 True |"
   ]
  },
  {
   "cell_type": "markdown",
   "metadata": {},
   "source": [
    "** <표> 이항 유니버설 함수**<br> 2개의 인자를 취해서 하나 또는 그 이상의 배열을 리턴한다."
   ]
  },
  {
   "cell_type": "markdown",
   "metadata": {},
   "source": [
    "|                            함수                            |                                                                                             설명                                                                                             |\n",
    "|:----------------------------------------------------------:|:--------------------------------------------------------------------------------------------------------------------------------------------------------------------------------------------:|\n",
    "|                             add                            |                                                                           두 배열에서 같은 위치의 원소끼리 더한다.                                                                           |\n",
    "|                          subtract                          |                                                                     첫 번째 배열의 원소에서 두 번쨰 배열의 원소를 뺀다.                                                                      |\n",
    "|                          multiply                          |                                                                                    배열의 원소끼리 곱한다.                                                                                   |\n",
    "|                    divide, floor_divide                    |                                                       첫 번째 배열의 원소에서 두 번째 배열의 원소를 나눈다. floor_divide는 몫만 취한다.                                                      |\n",
    "|                            power                           |                                                                    첫 번째 배열의 원소에 두 번째 배열이 원소만큼 제곱한다.                                                                   |\n",
    "|                        maximum, fmax                       |                                                          배열의 같은 위치에 있는 두 원소 중 큰 값을 반환한다. fmax는 NaN을 무시한다.                                                         |\n",
    "|                        minimum, fmin                       |                                                         배열의 같은 위치에 있는 두 원소 중 작은 값을 반환한다. fmin은 NaN을 무시한다.                                                        |\n",
    "|                             mod                            |                                                         첫 번째 배열의 원소에 두 번째 배열의 원소를 나눈 나머지를 구한다. (같은 위치)                                                        |\n",
    "|                          copysign                          |                                         첫 번째 배열의 원소의 부호를 두 번째 배열의 원소의 부호로 바꾼다. (부호는 +,-를 의미, 같은 위치에 있는 원소)                                         |\n",
    "| greater, greater_equal, less, less_equal, equal, not_equal | 배열의 같은 위치에 있는 두 원소간의 >, >=, <=, ==, != 비교연산 결과를 불리언 배열로 반환한다. 사실 그냥 함수를 안쓰고 배열 a,b가 주어져 있으면 \"a 비교연산연산자 b\"를 쓰는 것과 결과는 같다. |\n",
    "|            logical_and, logical_or, logical_xor            |              배열의 같은 위치에 있는 두 원소간의 논리연산 and, or, xor결과를 반환한다. 배열의 원소값이 True, False일 때 쓰는 것으로 \"a 논리연산자 b\" 방식으로 사용은 불가능하다.             |"
   ]
  },
  {
   "cell_type": "markdown",
   "metadata": {},
   "source": [
    "## 3. 배열을 사용한 데이터 처리\n",
    "numpy 배열을 사용하면 반복문을 작성하지 않고 간결한 배열연산을 통해 많은 종류의 데이터 처리 작업을 할 수 있다. 배열연산을 사용해서 반복문을 명시적으로 제거하는 기법을 흔히 벡터화라고한다."
   ]
  },
  {
   "cell_type": "code",
   "execution_count": 245,
   "metadata": {
    "collapsed": false
   },
   "outputs": [],
   "source": [
    "#example 값이 놓여있는 그리드에서 sqrt(x^2 + y^2) 계산\n",
    "points = np.arange(-5, 5, 0.01)\n",
    "xs,ys = np.meshgrid(points, points) #2개의 1차원 배열을 받아 모든 가능한 (x,y) 쌍을 만들 수 있는 2차원 배열 2개를 반환\n",
    "z = np.sqrt(xs ** 2 + ys ** 2)"
   ]
  },
  {
   "cell_type": "code",
   "execution_count": 246,
   "metadata": {
    "collapsed": false
   },
   "outputs": [
    {
     "data": {
      "text/plain": [
       "<matplotlib.text.Text at 0x25bd2f86978>"
      ]
     },
     "execution_count": 246,
     "metadata": {},
     "output_type": "execute_result"
    },
    {
     "data": {
      "image/png": "[encoded data removed]",
      "text/plain": [
       "<matplotlib.figure.Figure at 0x25bd25d4080>"
      ]
     },
     "metadata": {},
     "output_type": "display_data"
    }
   ],
   "source": [
    "import matplotlib.pyplot as plt \n",
    "%matplotlib inline\n",
    "plt.imshow(z, cmap = plt.cm.gray); plt.colorbar()\n",
    "plt.title(\"Image plot of $\\sqrt{x^2+y^2}$ for a grid of values\")"
   ]
  },
  {
   "cell_type": "markdown",
   "metadata": {},
   "source": [
    "### 3.1 배열연산을 조건절 표현하기\n",
    "* np.where : 'x if 조건 else y' 같은 삼항식의 벡터화 버전 numpy.where(cond, x, y)\n",
    "* np.where의 두 번째와 세 번째 인자는 배열이 아니라도 상관없으며 둘 중 하나 혹은 둘 다 스칼라 값이라도 동작함"
   ]
  },
  {
   "cell_type": "code",
   "execution_count": 247,
   "metadata": {
    "collapsed": true
   },
   "outputs": [],
   "source": [
    "xarr = np.array([1.1, 1.2, 1.3, 1.4, 1.5])\n",
    "yarr = np.array([2.1, 2.2, 2.3, 2.4, 2.5])\n",
    "cond = np.array([True, False, True, True, False])"
   ]
  },
  {
   "cell_type": "code",
   "execution_count": 248,
   "metadata": {
    "collapsed": false
   },
   "outputs": [
    {
     "data": {
      "text/plain": [
       "[(1.1000000000000001, 2.1000000000000001, True),\n",
       " (1.2, 2.2000000000000002, False),\n",
       " (1.3, 2.2999999999999998, True),\n",
       " (1.3999999999999999, 2.3999999999999999, True),\n",
       " (1.5, 2.5, False)]"
      ]
     },
     "execution_count": 248,
     "metadata": {},
     "output_type": "execute_result"
    }
   ],
   "source": [
    "list(zip(xarr, yarr, cond))"
   ]
  },
  {
   "cell_type": "code",
   "execution_count": 249,
   "metadata": {
    "collapsed": false
   },
   "outputs": [
    {
     "data": {
      "text/plain": [
       "[1.1000000000000001, 2.2000000000000002, 1.3, 1.3999999999999999, 2.5]"
      ]
     },
     "execution_count": 249,
     "metadata": {},
     "output_type": "execute_result"
    }
   ],
   "source": [
    "#list comprehension을 이용하여 cond 값이 True 일 때, xarr의 값이나 yarr의 값을 취하는 코드\n",
    "result = [(x if c else y) for x, y, c in zip(xarr, yarr, cond)]\n",
    "result"
   ]
  },
  {
   "cell_type": "code",
   "execution_count": 250,
   "metadata": {
    "collapsed": false
   },
   "outputs": [
    {
     "data": {
      "text/plain": [
       "array([ 1.1,  2.2,  1.3,  1.4,  2.5])"
      ]
     },
     "execution_count": 250,
     "metadata": {},
     "output_type": "execute_result"
    }
   ],
   "source": [
    "np.where(cond, xarr, yarr)"
   ]
  },
  {
   "cell_type": "code",
   "execution_count": 251,
   "metadata": {
    "collapsed": false
   },
   "outputs": [
    {
     "name": "stdout",
     "output_type": "stream",
     "text": [
      "[[-0.92513871 -0.481156    0.31133461  1.27240751]\n",
      " [-1.27112087  0.87794074  0.43872607 -0.11905678]\n",
      " [ 0.37899424 -0.89922371 -0.64926575 -0.07650461]\n",
      " [ 1.09117035 -0.34945508  0.3232431  -0.0586077 ]]\n"
     ]
    }
   ],
   "source": [
    "arr = np.random.randn(4,4)\n",
    "print(arr)"
   ]
  },
  {
   "cell_type": "code",
   "execution_count": 252,
   "metadata": {
    "collapsed": false
   },
   "outputs": [
    {
     "data": {
      "text/plain": [
       "array([[-2, -2,  2,  2],\n",
       "       [-2,  2,  2, -2],\n",
       "       [ 2, -2, -2, -2],\n",
       "       [ 2, -2,  2, -2]])"
      ]
     },
     "execution_count": 252,
     "metadata": {},
     "output_type": "execute_result"
    }
   ],
   "source": [
    "# 양수의 원소값은 2로 음수인 원소값은 -2로 치환하려면\n",
    "np.where(arr > 0,2,-2)"
   ]
  },
  {
   "cell_type": "code",
   "execution_count": 253,
   "metadata": {
    "collapsed": false
   },
   "outputs": [
    {
     "data": {
      "text/plain": [
       "[1, 2, 1]"
      ]
     },
     "execution_count": 253,
     "metadata": {},
     "output_type": "execute_result"
    }
   ],
   "source": [
    "# 2개의 불리언 배열을 가지고 모든 조합에 대해서 다른 값을 대입하는 예제\n",
    "# np.where을 사용하지않는 경우\n",
    "cond1 = np.array([True, False, True])\n",
    "cond2 = np.array([False, True, False])\n",
    "result = []\n",
    "for i in range(cond1.size):\n",
    "    if cond1[i] & cond2[i]:\n",
    "        result.append(0)\n",
    "    elif cond1[i]:\n",
    "        result.append(1)\n",
    "    elif cond2[i]:\n",
    "        result.append(2)\n",
    "    else:\n",
    "        result.append(3)\n",
    "result"
   ]
  },
  {
   "cell_type": "code",
   "execution_count": 254,
   "metadata": {
    "collapsed": false
   },
   "outputs": [
    {
     "data": {
      "text/plain": [
       "array([1, 2, 1])"
      ]
     },
     "execution_count": 254,
     "metadata": {},
     "output_type": "execute_result"
    }
   ],
   "source": [
    "np.where(cond1 & cond2,1,np.where(cond1,1,np.where(cond2,2,3)))"
   ]
  },
  {
   "cell_type": "markdown",
   "metadata": {},
   "source": [
    "### 3.2 수학메서드와 통계 메서드\n",
    "배열 전체 혹은 배열에서 한 축에 따르는 자료에 대한 통계를 계산하기 위한 수학 함수는 배열 메서드로 사용할 수 있다. 전체의 합(sum)이나 평균(mean), 표준편차(std)는 NumPy의 최상위 함수를 이용하거나 배열의 인스턴스 메서드를 사용해서 구할 수 있다."
   ]
  },
  {
   "cell_type": "markdown",
   "metadata": {},
   "source": [
    "** <표> 기본 배열 통계 메서드 **"
   ]
  },
  {
   "cell_type": "markdown",
   "metadata": {},
   "source": [
    "|     메서드     |                                                설명                                               |\n",
    "|:--------------:|:-------------------------------------------------------------------------------------------------:|\n",
    "|       sum      | 배열 전체 혹은 특정 축에 대한 모든 원소의 합을 계산한다. 크기가 0인 배열에 대한 sum 결과는 0이다. |\n",
    "|      mean      |                   산술평균을 구한다. 크기가 0인 배열에 대한 mean 결과는 NaN이다.                  |\n",
    "|    std, var    |  각각 표준편차(std), 분산(var)를 구한다. 선택적으로 자유도를 줄 수 있으며 분모의 기본 값은 n이다. |\n",
    "|    min, max    |                                           최소값, 최대값                                          |\n",
    "| argmin, argmax |                              최소 원소의 색인 값, 최대 원소의 색인 값                             |\n",
    "|     cumsum     |                                          각 원소의 누적합                                         |\n",
    "|     cumprod    |                                          각 원소의 누적곱                                         |"
   ]
  },
  {
   "cell_type": "code",
   "execution_count": 77,
   "metadata": {
    "collapsed": false
   },
   "outputs": [
    {
     "name": "stdout",
     "output_type": "stream",
     "text": [
      "[[ 1.47333937 -1.73453471  0.32878592  0.0478528 ]\n",
      " [ 0.18654302 -0.92260707 -0.84956495  0.47804807]\n",
      " [-0.35562351 -1.36871594 -0.38038074  0.10837459]\n",
      " [-1.67850343 -1.60769901 -0.22118499 -0.69178516]\n",
      " [-0.01883522  1.13477664  0.14558269 -1.12263844]]\n",
      "-0.352438503956 -0.352438503956\n",
      "-7.04877007911 -7.04877007911\n"
     ]
    }
   ],
   "source": [
    "arr = np.random.randn(5,4) # normally-distributed data\n",
    "print(arr)\n",
    "print(arr.mean(), np.mean(arr))\n",
    "print(arr.sum(), np.sum(arr))"
   ]
  },
  {
   "cell_type": "code",
   "execution_count": 78,
   "metadata": {
    "collapsed": false
   },
   "outputs": [
    {
     "data": {
      "text/plain": [
       "array([-0.07861595, -0.89975602, -0.19535241, -0.23602963])"
      ]
     },
     "execution_count": 78,
     "metadata": {},
     "output_type": "execute_result"
    }
   ],
   "source": [
    "arr.mean(axis = 0) # ColMeans,0번째 축을 따라 평균"
   ]
  },
  {
   "cell_type": "code",
   "execution_count": 79,
   "metadata": {
    "collapsed": false
   },
   "outputs": [
    {
     "data": {
      "text/plain": [
       "array([ 0.02886084, -0.27689523, -0.4990864 , -1.04979315,  0.03472142])"
      ]
     },
     "execution_count": 79,
     "metadata": {},
     "output_type": "execute_result"
    }
   ],
   "source": [
    "arr.mean(axis = 1) # rowMeans, 1번째 축을 따라 평균"
   ]
  },
  {
   "cell_type": "code",
   "execution_count": 80,
   "metadata": {
    "collapsed": false
   },
   "outputs": [
    {
     "data": {
      "text/plain": [
       "array([[0, 1, 2],\n",
       "       [3, 4, 5],\n",
       "       [6, 7, 8]])"
      ]
     },
     "execution_count": 80,
     "metadata": {},
     "output_type": "execute_result"
    }
   ],
   "source": [
    "#cumsum과 cumprod 메서드는 중간 계산 값을 담고 있는 배열을 반환한다.\n",
    "arr = np.array([[0, 1, 2], [3, 4, 5], [6, 7, 8]])\n",
    "arr"
   ]
  },
  {
   "cell_type": "code",
   "execution_count": 81,
   "metadata": {
    "collapsed": false
   },
   "outputs": [
    {
     "name": "stdout",
     "output_type": "stream",
     "text": [
      "[ 0  1  3  6 10 15 21 28 36]\n",
      "[[ 0  1  2]\n",
      " [ 3  5  7]\n",
      " [ 9 12 15]]\n",
      "[[ 0  1  3]\n",
      " [ 3  7 12]\n",
      " [ 6 13 21]]\n"
     ]
    }
   ],
   "source": [
    "print(arr.cumsum())\n",
    "print(arr.cumsum(axis = 0))\n",
    "print(arr.cumsum(axis = 1))"
   ]
  },
  {
   "cell_type": "code",
   "execution_count": 82,
   "metadata": {
    "collapsed": false
   },
   "outputs": [
    {
     "name": "stdout",
     "output_type": "stream",
     "text": [
      "[0 0 0 0 0 0 0 0 0]\n",
      "[[ 0  1  2]\n",
      " [ 0  4 10]\n",
      " [ 0 28 80]]\n",
      "[[  0   0   0]\n",
      " [  3  12  60]\n",
      " [  6  42 336]]\n"
     ]
    }
   ],
   "source": [
    "print(arr.cumprod())\n",
    "print(arr.cumprod(axis = 0))\n",
    "print(arr.cumprod(axis = 1))"
   ]
  },
  {
   "cell_type": "markdown",
   "metadata": {},
   "source": [
    "### 3.3 불리언배열을 위한 메서드\n",
    "앞의 메서드에서 불리언 값은 1(True), 0(False)로 취급된다. 따라서 불리언 배열에 대한 sum 메서드를 실행하면 True인 원소의 개수를 반환한다."
   ]
  },
  {
   "cell_type": "code",
   "execution_count": 83,
   "metadata": {
    "collapsed": true
   },
   "outputs": [],
   "source": [
    "bools = np.array([False, False, True, False])"
   ]
  },
  {
   "cell_type": "code",
   "execution_count": 84,
   "metadata": {
    "collapsed": false
   },
   "outputs": [
    {
     "data": {
      "text/plain": [
       "1"
      ]
     },
     "execution_count": 84,
     "metadata": {},
     "output_type": "execute_result"
    }
   ],
   "source": [
    "bools.sum()"
   ]
  },
  {
   "cell_type": "code",
   "execution_count": 85,
   "metadata": {
    "collapsed": false
   },
   "outputs": [
    {
     "data": {
      "text/plain": [
       "True"
      ]
     },
     "execution_count": 85,
     "metadata": {},
     "output_type": "execute_result"
    }
   ],
   "source": [
    "bools.any() # 배열의 원소 중 하나만 True여도 True"
   ]
  },
  {
   "cell_type": "code",
   "execution_count": 86,
   "metadata": {
    "collapsed": false
   },
   "outputs": [
    {
     "data": {
      "text/plain": [
       "False"
      ]
     },
     "execution_count": 86,
     "metadata": {},
     "output_type": "execute_result"
    }
   ],
   "source": [
    "bools.all() # 배열의 원소가 모두 True여야 True"
   ]
  },
  {
   "cell_type": "markdown",
   "metadata": {},
   "source": [
    "### 3.4 정렬\n",
    "파이썬의 내장 리스트형처럼 Numpy 배열 역시 sort 메서드를 이용하여 정렬할 수 있다.\n",
    "* sort 메서드는 배열을 직접 변경한다.\n",
    "* np.sort()는 배열을 직접 변경하지않고 정렬된 결과를 가지고 있는 복사본을 반환한다.\n",
    "* sort 메서드로 다차원 배열을 정렬할 경우 sort 메서드에 넘긴 축의 번호에 따라 1차원 부분을 정렬한다."
   ]
  },
  {
   "cell_type": "code",
   "execution_count": 99,
   "metadata": {
    "collapsed": false
   },
   "outputs": [
    {
     "data": {
      "text/plain": [
       "array([5, 4, 3, 2, 1])"
      ]
     },
     "execution_count": 99,
     "metadata": {},
     "output_type": "execute_result"
    }
   ],
   "source": [
    "x = np.array([5,4,3,2,1])\n",
    "x"
   ]
  },
  {
   "cell_type": "code",
   "execution_count": 100,
   "metadata": {
    "collapsed": false
   },
   "outputs": [
    {
     "data": {
      "text/plain": [
       "array([1, 2, 3, 4, 5])"
      ]
     },
     "execution_count": 100,
     "metadata": {},
     "output_type": "execute_result"
    }
   ],
   "source": [
    "x.sort() # 배열을 직접변경한다.\n",
    "x"
   ]
  },
  {
   "cell_type": "code",
   "execution_count": 101,
   "metadata": {
    "collapsed": true
   },
   "outputs": [],
   "source": [
    "y = np.array([5,4,3,2,1])"
   ]
  },
  {
   "cell_type": "code",
   "execution_count": 103,
   "metadata": {
    "collapsed": false
   },
   "outputs": [
    {
     "name": "stdout",
     "output_type": "stream",
     "text": [
      "[1 2 3 4 5] [5 4 3 2 1]\n"
     ]
    }
   ],
   "source": [
    "print(np.sort(y), y) # np.sort()는 배열의 정렬된 결과를 가지고 있는 복사본을 반환한다. 즉 원 배열은 바뀌지 않는다."
   ]
  },
  {
   "cell_type": "code",
   "execution_count": 122,
   "metadata": {
    "collapsed": false
   },
   "outputs": [
    {
     "name": "stdout",
     "output_type": "stream",
     "text": [
      "[[4 5 6]\n",
      " [1 2 3]\n",
      " [7 8 9]]\n",
      "[[4 5 6]\n",
      " [1 2 3]\n",
      " [7 8 9]]\n"
     ]
    }
   ],
   "source": [
    "arr1 = np.array([[4,5,6],[1,2,3],[7,8,9]])\n",
    "arr2 = np.array([[4,5,6],[1,2,3],[7,8,9]])\n",
    "print(arr1)\n",
    "print(arr2)"
   ]
  },
  {
   "cell_type": "code",
   "execution_count": 127,
   "metadata": {
    "collapsed": false
   },
   "outputs": [
    {
     "name": "stdout",
     "output_type": "stream",
     "text": [
      "[[1 2 3]\n",
      " [4 5 6]\n",
      " [7 8 9]]\n",
      "[[4 5 6]\n",
      " [1 2 3]\n",
      " [7 8 9]]\n"
     ]
    }
   ],
   "source": [
    "arr1.sort(0)\n",
    "arr2.sort(1)\n",
    "print(arr1) # 0번축, 칼럼단위로  sorting\n",
    "print(arr2) # 1번축, 행단위로 sorting"
   ]
  },
  {
   "cell_type": "code",
   "execution_count": 113,
   "metadata": {
    "collapsed": false
   },
   "outputs": [
    {
     "data": {
      "text/plain": [
       "(3, 3)"
      ]
     },
     "execution_count": 113,
     "metadata": {},
     "output_type": "execute_result"
    }
   ],
   "source": [
    "arr1.shape"
   ]
  },
  {
   "cell_type": "markdown",
   "metadata": {},
   "source": [
    "### 3.5 집합함수\n",
    "** <표> 배열 집합연산 **"
   ]
  },
  {
   "cell_type": "markdown",
   "metadata": {},
   "source": [
    "|       메서드      |                                             설명                                             |\n",
    "|:-----------------:|:--------------------------------------------------------------------------------------------:|\n",
    "|     unique(x)     |                     배열 x에서 중복된 원소를 제거한 후 정렬하여 반환한다.                    |\n",
    "| intersect1d(x, y) |                  배열 x와 y에 공통적으로 존재하는 원소를 정렬하여 반환한다.                  |\n",
    "|   union1d(x, y)   |                                 두 배열의 합집합을 반환한다.                                 |\n",
    "|     in1d(x, y)    |             x의 원소 중 y의 원소를 포함하는 지를 나타내는 불리언 배열을 반환한다.            |\n",
    "|  setdiff1d(x, y)  |                                  x와 y의 차집합을 반환한다.                                  |\n",
    "|   setxor1d(x, y)  | 두 배열의 원소 중 한 쪽에라도 없는 원소의 집합을 반환한다.|"
   ]
  },
  {
   "cell_type": "code",
   "execution_count": 255,
   "metadata": {
    "collapsed": false
   },
   "outputs": [],
   "source": [
    "test1 = np.array(['x','x','y','z','z','y'])\n",
    "test2 = np.array(['x','y','a'])"
   ]
  },
  {
   "cell_type": "code",
   "execution_count": 256,
   "metadata": {
    "collapsed": false
   },
   "outputs": [
    {
     "data": {
      "text/plain": [
       "array(['x', 'y', 'z'], \n",
       "      dtype='<U1')"
      ]
     },
     "execution_count": 256,
     "metadata": {},
     "output_type": "execute_result"
    }
   ],
   "source": [
    "np.unique(test)"
   ]
  },
  {
   "cell_type": "code",
   "execution_count": 257,
   "metadata": {
    "collapsed": false
   },
   "outputs": [
    {
     "data": {
      "text/plain": [
       "['x', 'y', 'z']"
      ]
     },
     "execution_count": 257,
     "metadata": {},
     "output_type": "execute_result"
    }
   ],
   "source": [
    "# 순수 파이썬 코드로 unique를 구현하면\n",
    "sorted(set(test))"
   ]
  },
  {
   "cell_type": "code",
   "execution_count": 258,
   "metadata": {
    "collapsed": false
   },
   "outputs": [
    {
     "data": {
      "text/plain": [
       "array(['x', 'y'], \n",
       "      dtype='<U1')"
      ]
     },
     "execution_count": 258,
     "metadata": {},
     "output_type": "execute_result"
    }
   ],
   "source": [
    "# intersect1d(x, y)\n",
    "np.intersect1d(test1, test2)"
   ]
  },
  {
   "cell_type": "code",
   "execution_count": 259,
   "metadata": {
    "collapsed": false
   },
   "outputs": [
    {
     "data": {
      "text/plain": [
       "array(['a', 'x', 'y', 'z'], \n",
       "      dtype='<U1')"
      ]
     },
     "execution_count": 259,
     "metadata": {},
     "output_type": "execute_result"
    }
   ],
   "source": [
    "# uniond1d(x, y)\n",
    "np.union1d(test1, test2)"
   ]
  },
  {
   "cell_type": "code",
   "execution_count": 260,
   "metadata": {
    "collapsed": false
   },
   "outputs": [
    {
     "name": "stdout",
     "output_type": "stream",
     "text": [
      "[ True  True  True False False  True]\n",
      "[ True  True False]\n"
     ]
    }
   ],
   "source": [
    "# in1d(x, y), R에서 %in%와 동일\n",
    "print(np.in1d(test1, test2))\n",
    "print(np.in1d(test2, test1))"
   ]
  },
  {
   "cell_type": "code",
   "execution_count": 261,
   "metadata": {
    "collapsed": false
   },
   "outputs": [
    {
     "data": {
      "text/plain": [
       "array(['z'], \n",
       "      dtype='<U1')"
      ]
     },
     "execution_count": 261,
     "metadata": {},
     "output_type": "execute_result"
    }
   ],
   "source": [
    "# setdiff1d(x, y)\n",
    "np.setdiff1d(test1, test2)"
   ]
  },
  {
   "cell_type": "code",
   "execution_count": 262,
   "metadata": {
    "collapsed": false
   },
   "outputs": [
    {
     "data": {
      "text/plain": [
       "array(['a', 'z'], \n",
       "      dtype='<U1')"
      ]
     },
     "execution_count": 262,
     "metadata": {},
     "output_type": "execute_result"
    }
   ],
   "source": [
    "# np.setxor1d(x,y)\n",
    "np.setxor1d(test1, test2)"
   ]
  },
  {
   "cell_type": "markdown",
   "metadata": {},
   "source": [
    "## 4. 선형대수\n",
    "행렬의 곱셈, 분할, 행렬식, 정사각 행렬 수학 같은 선형대수는 배열을 다루는 라이브러리에서 중요한 부분이다. MATLAB 같은 다른 언어와 달리 2개의 2차원 배열을 * 연산자로 곱하는 건 행렬 곱셉이 아니라 대응하는 각각의 원소의 곱을 계산하는 것이다.(R과 동일) 행렬 곱셈은 배열 메서드이자 numpy 네임스페이스 안에 있는 함수인 dot함수를 사용해서 계산한다."
   ]
  },
  {
   "cell_type": "markdown",
   "metadata": {},
   "source": [
    "**<표> 주로 사용하는 선형대수 함수**"
   ]
  },
  {
   "cell_type": "markdown",
   "metadata": {},
   "source": [
    "|       함수      |                                                                설명                                                                |\n",
    "|:---------------:|:----------------------------------------------------------------------------------------------------------------------------------:|\n",
    "|     np.diag     | 정사각 행렬의 대각/비대각 원소를 1차원 배열로 반환하거나 1차원 배열을 대각선 원소로 하고, 나머지는 0으로 채운 대각행렬을 반환한다. |\n",
    "|      np.dot     |                                                              행렬 곱셈                                                             |\n",
    "|     np.trace    |                                                 행렬의 대각선 원소의 합을 계산한다.                                                |\n",
    "|  np.linalg.det  |                                                         행렬식을 계산한다.                                                         |\n",
    "|  np.linalg.eig  |                                        정사각행렬(정칙행렬)의 고유값과 고유벡터를 계산한다.                                        |\n",
    "|  np.linalg.inv  |                                              정사각행렬(정칙행렬)의 역행렬을 계산한다.                                             |\n",
    "|  np.linalg.pinv |                                            행렬의 무어-펜로즈 유사역원 역행렬을 구한다.                                            |\n",
    "|   np.linalg.qr  |                                                         qr분해를 계산한다.                                                         |\n",
    "|  np.linalg.svd  |                                                    특이값 분해(svd)를 계산한다.                                                    |\n",
    "| np.linalg.solve |                                          A가 정칙행렬일 때, Ax = b를 만족하는 x를 구한다.                                          |\n",
    "| np.linalg.lstsq |                                               y = xb를 만족하는 최소제곱해를 구한다.                                               |"
   ]
  },
  {
   "cell_type": "code",
   "execution_count": 263,
   "metadata": {
    "collapsed": false
   },
   "outputs": [
    {
     "data": {
      "text/plain": [
       "array([[1, 2],\n",
       "       [2, 1]])"
      ]
     },
     "execution_count": 263,
     "metadata": {},
     "output_type": "execute_result"
    }
   ],
   "source": [
    "a = np.array([[1,2],[2,1]])\n",
    "a"
   ]
  },
  {
   "cell_type": "code",
   "execution_count": 264,
   "metadata": {
    "collapsed": false
   },
   "outputs": [
    {
     "data": {
      "text/plain": [
       "array([1, 1])"
      ]
     },
     "execution_count": 264,
     "metadata": {},
     "output_type": "execute_result"
    }
   ],
   "source": [
    "# 행렬 a의 주대각 원소\n",
    "np.diag(a)"
   ]
  },
  {
   "cell_type": "code",
   "execution_count": 265,
   "metadata": {
    "collapsed": false
   },
   "outputs": [
    {
     "data": {
      "text/plain": [
       "array([[1, 0],\n",
       "       [0, 2]])"
      ]
     },
     "execution_count": 265,
     "metadata": {},
     "output_type": "execute_result"
    }
   ],
   "source": [
    "# 주대각이 1과 2인 정칙행렬 생성\n",
    "np.diag([1,2])"
   ]
  },
  {
   "cell_type": "code",
   "execution_count": 266,
   "metadata": {
    "collapsed": false
   },
   "outputs": [
    {
     "data": {
      "text/plain": [
       "2"
      ]
     },
     "execution_count": 266,
     "metadata": {},
     "output_type": "execute_result"
    }
   ],
   "source": [
    "# 행렬 a의 주대각 원소의 합\n",
    "np.trace(a)"
   ]
  },
  {
   "cell_type": "code",
   "execution_count": 267,
   "metadata": {
    "collapsed": false
   },
   "outputs": [
    {
     "data": {
      "text/plain": [
       "-2.9999999999999996"
      ]
     },
     "execution_count": 267,
     "metadata": {},
     "output_type": "execute_result"
    }
   ],
   "source": [
    "# 행렬 a의 행렬식 값\n",
    "np.linalg.det(a)"
   ]
  },
  {
   "cell_type": "code",
   "execution_count": 268,
   "metadata": {
    "collapsed": false
   },
   "outputs": [
    {
     "data": {
      "text/plain": [
       "(array([ 3., -1.]), array([[ 0.70710678, -0.70710678],\n",
       "        [ 0.70710678,  0.70710678]]))"
      ]
     },
     "execution_count": 268,
     "metadata": {},
     "output_type": "execute_result"
    }
   ],
   "source": [
    "# 행렬 a의 고유값과, 각 고유값에 해당하는 고유벡터\n",
    "np.linalg.eig(a)"
   ]
  },
  {
   "cell_type": "code",
   "execution_count": 269,
   "metadata": {
    "collapsed": false
   },
   "outputs": [
    {
     "data": {
      "text/plain": [
       "array([[-0.33333333,  0.66666667],\n",
       "       [ 0.66666667, -0.33333333]])"
      ]
     },
     "execution_count": 269,
     "metadata": {},
     "output_type": "execute_result"
    }
   ],
   "source": [
    "# 행렬 a의 역행렬\n",
    "np.linalg.inv(a)"
   ]
  },
  {
   "cell_type": "code",
   "execution_count": 270,
   "metadata": {
    "collapsed": true
   },
   "outputs": [],
   "source": [
    "a = np.array([1,2,3])\n",
    "b = np.array([1,2,3])"
   ]
  },
  {
   "cell_type": "code",
   "execution_count": 271,
   "metadata": {
    "collapsed": false
   },
   "outputs": [
    {
     "data": {
      "text/plain": [
       "array([1, 4, 9])"
      ]
     },
     "execution_count": 271,
     "metadata": {},
     "output_type": "execute_result"
    }
   ],
   "source": [
    "# 행렬의  원소 대응곱\n",
    "a * b"
   ]
  },
  {
   "cell_type": "code",
   "execution_count": 194,
   "metadata": {
    "collapsed": false
   },
   "outputs": [
    {
     "data": {
      "text/plain": [
       "14"
      ]
     },
     "execution_count": 194,
     "metadata": {},
     "output_type": "execute_result"
    }
   ],
   "source": [
    "# 행렬곱\n",
    "np.dot(a,b)"
   ]
  },
  {
   "cell_type": "markdown",
   "metadata": {},
   "source": [
    "## 5. 난수생성\n",
    "np.random 모듈은 파이썬 내장 random 함수를 보강하여 다양한 종류의 확률분포로부터 효과적으료 표본 값을 생성하는 데 주로 사용된다.<br>\n",
    "실제 활용은 ?를 이용하여 확인하는 것이 좋다."
   ]
  },
  {
   "cell_type": "markdown",
   "metadata": {},
   "source": [
    "** <표> 일부 np.random 함수 **"
   ]
  },
  {
   "cell_type": "markdown",
   "metadata": {},
   "source": [
    "|     함수    |                              설명                             |\n",
    "|:-----------:|:-------------------------------------------------------------:|\n",
    "|     seed    |                 난수 발생시의 seed를 지정한다.                |\n",
    "| permutation |         순서를 임의로 바꾸거나 임의의 순열을 반환한다.        |\n",
    "|   shuffle   |                리스트나 배열의 순서를 뒤섞는다.               |\n",
    "|     rand    |                 균등분포에서 표본을 추출한다.                 |\n",
    "|   randint   |      주어진 최소/최대 범위 안에서 임의의 난수를 추출한다.     |\n",
    "|    randn    | 표준편차가 1이고 평균 값이 0 인 정규분포에서 표본을 추출한다. |\n",
    "|   binomial  |                 이항분포에서 표본을 추출한다.                 |\n",
    "|    normal   |                 정규분포에서 표본을 추출한다.                 |\n",
    "|     beta    |                 베타분포에서 표본을 추출한다.                 |\n",
    "|  chisquare  |               카이제곱분포에서 표본을 추출한다.               |\n",
    "|    gamma    |                 감마분포에서 표본을 추출한다.                 |\n",
    "|   uniform   |              균등분포 (0,1)에서 표본을 추출한다.              |"
   ]
  }
 ],
 "metadata": {
  "kernelspec": {
   "display_name": "Python 3",
   "language": "python",
   "name": "python3"
  },
  "language_info": {
   "codemirror_mode": {
    "name": "ipython",
    "version": 3
   },
   "file_extension": ".py",
   "mimetype": "text/x-python",
   "name": "python",
   "nbconvert_exporter": "python",
   "pygments_lexer": "ipython3",
   "version": "3.5.1"
  }
 },
 "nbformat": 4,
 "nbformat_minor": 0
}
